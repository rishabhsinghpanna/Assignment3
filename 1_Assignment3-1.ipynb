{
 "cells": [
  {
   "cell_type": "markdown",
   "id": "0182d020-35e2-4dec-a5c1-8403dc35c00d",
   "metadata": {},
   "source": [
    "Q1. Which keyword is used to create a function? Create a function to return a list of odd numbers in the\n",
    "range of 1 to 25."
   ]
  },
  {
   "cell_type": "markdown",
   "id": "efafb4df-942d-4b02-a39c-9d4133be13df",
   "metadata": {},
   "source": [
    "\"def\" keyword is used to create function"
   ]
  },
  {
   "cell_type": "code",
   "execution_count": 27,
   "id": "f3a034b3-fd8f-46a8-a3a8-cc405c70a300",
   "metadata": {},
   "outputs": [],
   "source": [
    "def oddNumbers():\n",
    "    l1 = []\n",
    "    for i in range(25):\n",
    "        if i%2!=0:\n",
    "            l1.append(i)\n",
    "    return l1       \n",
    "    "
   ]
  },
  {
   "cell_type": "code",
   "execution_count": 28,
   "id": "7fc1f47f-ed5f-4b04-89ec-2a3ad468a5af",
   "metadata": {},
   "outputs": [
    {
     "data": {
      "text/plain": [
       "[1, 3, 5, 7, 9, 11, 13, 15, 17, 19, 21, 23]"
      ]
     },
     "execution_count": 28,
     "metadata": {},
     "output_type": "execute_result"
    }
   ],
   "source": [
    "oddNumbers()"
   ]
  },
  {
   "cell_type": "markdown",
   "id": "520e9f6a-fb6e-41cb-882e-cdcda273db88",
   "metadata": {},
   "source": [
    "Q2. Why *args and **kwargs is used in some functions? Create a function each for *args and **kwargs\n",
    "to demonstrate their use."
   ]
  },
  {
   "cell_type": "markdown",
   "id": "4c8c24e4-48c8-42a9-902d-5a3676fe9b4a",
   "metadata": {},
   "source": [
    "By using \" *args \" we can pass multiple variable while defining the function and it returns the tuple of all that variable"
   ]
  },
  {
   "cell_type": "markdown",
   "id": "323c8424-83c6-4ad2-a846-2d7ed9d748d8",
   "metadata": {},
   "source": [
    "By using \" *kwargs \" we can pass multiple arguments in the form of key-value pair and it return in form of dictionary"
   ]
  },
  {
   "cell_type": "code",
   "execution_count": 29,
   "id": "fef084b0-3367-463a-bb39-ccfa7238a4e8",
   "metadata": {},
   "outputs": [],
   "source": [
    "# *args\n",
    "def ags(*rish):\n",
    "    return rish"
   ]
  },
  {
   "cell_type": "code",
   "execution_count": 30,
   "id": "3c6836e1-8677-44c5-97a9-b62019aca69e",
   "metadata": {},
   "outputs": [
    {
     "data": {
      "text/plain": [
       "(1, 3, 45.6, 445, (5+8j), [34, 'rish', 4])"
      ]
     },
     "execution_count": 30,
     "metadata": {},
     "output_type": "execute_result"
    }
   ],
   "source": [
    "ags(1,3,45.6,445,5+8j,[34,'rish' , 4])"
   ]
  },
  {
   "cell_type": "code",
   "execution_count": 31,
   "id": "30881655-4fb1-421e-8ff4-595a73fab5b7",
   "metadata": {},
   "outputs": [
    {
     "data": {
      "text/plain": [
       "tuple"
      ]
     },
     "execution_count": 31,
     "metadata": {},
     "output_type": "execute_result"
    }
   ],
   "source": [
    "type(ags())"
   ]
  },
  {
   "cell_type": "code",
   "execution_count": 32,
   "id": "aa9cdb7d-f1c9-4b4c-88b3-534581f6214e",
   "metadata": {},
   "outputs": [],
   "source": [
    "def kwargs(**rish):\n",
    "    return rish"
   ]
  },
  {
   "cell_type": "code",
   "execution_count": 33,
   "id": "e9c96b1b-5005-499e-85f8-e7231e3ab641",
   "metadata": {},
   "outputs": [
    {
     "data": {
      "text/plain": [
       "dict"
      ]
     },
     "execution_count": 33,
     "metadata": {},
     "output_type": "execute_result"
    }
   ],
   "source": [
    "\n",
    "type(kwargs())"
   ]
  },
  {
   "cell_type": "code",
   "execution_count": 34,
   "id": "0b781d93-7dc9-4e5c-b2f1-19c7214e2ea2",
   "metadata": {},
   "outputs": [
    {
     "data": {
      "text/plain": [
       "{'a': 'rish', 'v': (4, 'singh', (4+1j))}"
      ]
     },
     "execution_count": 34,
     "metadata": {},
     "output_type": "execute_result"
    }
   ],
   "source": [
    "kwargs(a=\"rish\" , v =(4,\"singh\",4+1j))"
   ]
  },
  {
   "cell_type": "markdown",
   "id": "adf7c701-dc0e-4790-85f8-a2e04da537d2",
   "metadata": {},
   "source": [
    "Q3. What is an iterator in python? Name the method used to initialise the iterator object and the method\n",
    "used for iteration. Use these methods to print the first five elements of the given list [2, 4, 6, 8, 10, 12, 14,\n",
    "16, 18, 20]."
   ]
  },
  {
   "cell_type": "markdown",
   "id": "8496a72a-bd32-453e-acf1-e0cc516712d8",
   "metadata": {},
   "source": [
    "Iterator in python means you can traverse through all the values."
   ]
  },
  {
   "cell_type": "markdown",
   "id": "6071c89b-0a5a-4611-ae6b-1dfad8522605",
   "metadata": {},
   "source": [
    "Methods used to initilise the object for iterator is iter() eg: s = \"rish\" ,ir =iter(s)"
   ]
  },
  {
   "cell_type": "markdown",
   "id": "3a273752-9432-4055-bc2a-2d44317364b2",
   "metadata": {},
   "source": [
    "Methods used for iteration is  from above example is next(ir)"
   ]
  },
  {
   "cell_type": "code",
   "execution_count": 35,
   "id": "18175eab-6824-4daa-9823-a2f4bf19a29e",
   "metadata": {},
   "outputs": [],
   "source": [
    "l1 = [2, 4, 6, 8, 10, 12, 14, 16, 18, 20]"
   ]
  },
  {
   "cell_type": "code",
   "execution_count": 36,
   "id": "5e0c3b45-6fba-4213-a715-86148446bfa2",
   "metadata": {},
   "outputs": [],
   "source": [
    "it = iter(l1)"
   ]
  },
  {
   "cell_type": "code",
   "execution_count": 37,
   "id": "4a517f28-f226-4641-8fe8-7bd6bbcc92ed",
   "metadata": {},
   "outputs": [
    {
     "data": {
      "text/plain": [
       "2"
      ]
     },
     "execution_count": 37,
     "metadata": {},
     "output_type": "execute_result"
    }
   ],
   "source": [
    "next(it)"
   ]
  },
  {
   "cell_type": "code",
   "execution_count": 38,
   "id": "11f84798-3e86-44c8-93de-a49aff6faec6",
   "metadata": {},
   "outputs": [
    {
     "data": {
      "text/plain": [
       "4"
      ]
     },
     "execution_count": 38,
     "metadata": {},
     "output_type": "execute_result"
    }
   ],
   "source": [
    "next(it)"
   ]
  },
  {
   "cell_type": "code",
   "execution_count": 39,
   "id": "d66b75ec-7e56-485c-a962-bbf20b371527",
   "metadata": {},
   "outputs": [
    {
     "data": {
      "text/plain": [
       "6"
      ]
     },
     "execution_count": 39,
     "metadata": {},
     "output_type": "execute_result"
    }
   ],
   "source": [
    "\n",
    "next(it)"
   ]
  },
  {
   "cell_type": "code",
   "execution_count": 40,
   "id": "758a6ba4-ab34-47c5-8237-106af58c9e67",
   "metadata": {},
   "outputs": [
    {
     "data": {
      "text/plain": [
       "8"
      ]
     },
     "execution_count": 40,
     "metadata": {},
     "output_type": "execute_result"
    }
   ],
   "source": [
    "next(it)"
   ]
  },
  {
   "cell_type": "code",
   "execution_count": 41,
   "id": "bd575e78-709c-46cc-a55c-8e07bc0a0f5c",
   "metadata": {},
   "outputs": [
    {
     "data": {
      "text/plain": [
       "10"
      ]
     },
     "execution_count": 41,
     "metadata": {},
     "output_type": "execute_result"
    }
   ],
   "source": [
    "next(it)"
   ]
  },
  {
   "cell_type": "markdown",
   "id": "4efb11f8-fa11-443e-9b5f-ba57534d2b0e",
   "metadata": {},
   "source": [
    "Q4. What is a generator function in python? Why yield keyword is used? Give an example of a generator\n",
    "function."
   ]
  },
  {
   "cell_type": "markdown",
   "id": "fcab42ef-cf05-457b-96c2-4a13c61a0fba",
   "metadata": {},
   "source": [
    "A Python generator function allows you to declare a function that behaves like an iterator, providing a faster and easier way to create iterators"
   ]
  },
  {
   "cell_type": "markdown",
   "id": "89f52eb4-ed3e-4cc4-aeb3-e861a30f6408",
   "metadata": {},
   "source": [
    "Yield is used for not to stop the function it gives multiple output and it does not store the result in any collection data structure it gives direct result"
   ]
  },
  {
   "cell_type": "code",
   "execution_count": 42,
   "id": "682a2739-11cb-4692-8bfc-774e12bed581",
   "metadata": {},
   "outputs": [],
   "source": [
    "# eg for generator function"
   ]
  },
  {
   "cell_type": "code",
   "execution_count": 43,
   "id": "fc2acaf3-b47a-4d01-8748-a728fa07d730",
   "metadata": {},
   "outputs": [],
   "source": [
    "def gen(n):\n",
    "    a,b = 3,5\n",
    "    for i in range(n):\n",
    "        yield a\n",
    "        a,b = b , b+a/3"
   ]
  },
  {
   "cell_type": "code",
   "execution_count": 44,
   "id": "227e7584-afbd-4a71-88c9-f1f4377a30aa",
   "metadata": {},
   "outputs": [
    {
     "data": {
      "text/plain": [
       "<generator object gen at 0x7f6dec0f8eb0>"
      ]
     },
     "execution_count": 44,
     "metadata": {},
     "output_type": "execute_result"
    }
   ],
   "source": [
    "gen(5)"
   ]
  },
  {
   "cell_type": "code",
   "execution_count": 45,
   "id": "7608bc57-71c6-48b0-bf6f-842399f7d10e",
   "metadata": {},
   "outputs": [],
   "source": [
    "to = gen(5)"
   ]
  },
  {
   "cell_type": "code",
   "execution_count": 46,
   "id": "6981cd32-dd51-4fcb-a01c-76398bd617d2",
   "metadata": {},
   "outputs": [
    {
     "data": {
      "text/plain": [
       "generator"
      ]
     },
     "execution_count": 46,
     "metadata": {},
     "output_type": "execute_result"
    }
   ],
   "source": [
    "type(to)"
   ]
  },
  {
   "cell_type": "markdown",
   "id": "6260e5e4-114b-42f3-957b-6a023510f5a8",
   "metadata": {},
   "source": [
    "Q5. Create a generator function for prime numbers less than 1000. Use the next() method to print the\n",
    "first 20 prime numbers."
   ]
  },
  {
   "cell_type": "code",
   "execution_count": 67,
   "id": "f0d10a52-6109-4359-81aa-434ccf2e30bc",
   "metadata": {},
   "outputs": [],
   "source": [
    "def is_prime(n):\n",
    "    if n==2 or n==3:\n",
    "        return True\n",
    "    if n < 2 or n==4:\n",
    "        return False\n",
    "    for i in range(2,n//2):\n",
    "        if n%i==0:\n",
    "            return False\n",
    "    return True           "
   ]
  },
  {
   "cell_type": "code",
   "execution_count": 86,
   "id": "7e905647-8721-4842-82cf-10b8881c2e1f",
   "metadata": {},
   "outputs": [
    {
     "data": {
      "text/plain": [
       "False"
      ]
     },
     "execution_count": 86,
     "metadata": {},
     "output_type": "execute_result"
    }
   ],
   "source": [
    "is_prime(4)"
   ]
  },
  {
   "cell_type": "code",
   "execution_count": 82,
   "id": "6145099b-50c5-4b01-8a17-5d8a5b59feb2",
   "metadata": {},
   "outputs": [],
   "source": [
    "def prime_generator(n):\n",
    "    i=2\n",
    "    while i < n:\n",
    "        if is_prime(i):\n",
    "             yield i\n",
    "        i+=1               "
   ]
  },
  {
   "cell_type": "code",
   "execution_count": 83,
   "id": "da441c31-e393-42a0-88bd-c967091c6a70",
   "metadata": {},
   "outputs": [
    {
     "name": "stdin",
     "output_type": "stream",
     "text": [
      " 1000\n"
     ]
    }
   ],
   "source": [
    "n = int(input())"
   ]
  },
  {
   "cell_type": "code",
   "execution_count": 84,
   "id": "6e8a7390-9138-4752-acfc-e08fc1583448",
   "metadata": {},
   "outputs": [],
   "source": [
    "prime = prime_generator(n)"
   ]
  },
  {
   "cell_type": "code",
   "execution_count": 85,
   "id": "ce65a893-e0a2-4fc4-adfb-2ebac3f76e2a",
   "metadata": {},
   "outputs": [
    {
     "name": "stdout",
     "output_type": "stream",
     "text": [
      "2\n",
      "3\n",
      "5\n",
      "7\n",
      "11\n",
      "13\n",
      "17\n",
      "19\n",
      "23\n",
      "29\n",
      "31\n",
      "37\n",
      "41\n",
      "43\n",
      "47\n",
      "53\n",
      "59\n",
      "61\n",
      "67\n",
      "71\n"
     ]
    }
   ],
   "source": [
    "for i in range(20):\n",
    "    print(next(prime))"
   ]
  },
  {
   "cell_type": "markdown",
   "id": "8ad922e9-cc7a-4016-aa11-e676fe163e53",
   "metadata": {},
   "source": [
    "Q6. Write a python program to print the first 10 Fibonacci numbers using a while loop."
   ]
  },
  {
   "cell_type": "code",
   "execution_count": 94,
   "id": "8628a084-81a8-4818-9623-398b5b54ef69",
   "metadata": {},
   "outputs": [
    {
     "name": "stdin",
     "output_type": "stream",
     "text": [
      " 10\n"
     ]
    },
    {
     "name": "stdout",
     "output_type": "stream",
     "text": [
      "0\n",
      "1\n",
      "1\n",
      "2\n",
      "3\n",
      "5\n",
      "8\n",
      "13\n",
      "21\n",
      "34\n"
     ]
    }
   ],
   "source": [
    "a,b = 0,1\n",
    "n = int(input())\n",
    "while n:\n",
    "    print(a)\n",
    "    a,b = b,b+a\n",
    "    n = n-1"
   ]
  },
  {
   "cell_type": "markdown",
   "id": "b862fddf-fc7f-4b94-89d9-5e8573bd2362",
   "metadata": {},
   "source": [
    "Q7. Write a List Comprehension to iterate through the given string: ‘pwskills’.\n",
    "Expected output: ['p', 'w', 's', 'k', 'i', 'l', 'l', 's']"
   ]
  },
  {
   "cell_type": "code",
   "execution_count": 96,
   "id": "e8720c9a-e789-410a-8aad-b07a5e05869a",
   "metadata": {},
   "outputs": [
    {
     "name": "stdin",
     "output_type": "stream",
     "text": [
      "Enter the string :  pwskills\n"
     ]
    },
    {
     "data": {
      "text/plain": [
       "['p', 'w', 's', 'k', 'i', 'l', 'l', 's']"
      ]
     },
     "execution_count": 96,
     "metadata": {},
     "output_type": "execute_result"
    }
   ],
   "source": [
    "String  = input(\"Enter the string : \")\n",
    "l1=[]\n",
    "l1.extend(String)\n",
    "l1"
   ]
  },
  {
   "cell_type": "markdown",
   "id": "1ba824ce-f893-40de-8f6b-bdbbbed33078",
   "metadata": {},
   "source": [
    "Q8. Write a python program to check whether a given number is Palindrome or not using a while loop.\n"
   ]
  },
  {
   "cell_type": "code",
   "execution_count": 104,
   "id": "6729d3c0-049d-4d69-9b91-b63f476b82de",
   "metadata": {},
   "outputs": [
    {
     "name": "stdin",
     "output_type": "stream",
     "text": [
      "Enter the given number :  45654\n"
     ]
    },
    {
     "name": "stdout",
     "output_type": "stream",
     "text": [
      "Palindrome\n"
     ]
    }
   ],
   "source": [
    "n = int(input(\"Enter the given number : \"))\n",
    "a = str(n)\n",
    "a=a[::-1]\n",
    "if n==int(a):\n",
    "        print(\"Palindrome\")\n",
    "else:\n",
    "        print(\"Not Palindrome\")\n",
    "        "
   ]
  },
  {
   "cell_type": "markdown",
   "id": "6ec9259d-1af6-4305-9d7e-4678f64d4048",
   "metadata": {},
   "source": [
    "Q9. Write a code to print odd numbers from 1 to 100 using list comprehension."
   ]
  },
  {
   "cell_type": "code",
   "execution_count": 120,
   "id": "9d489ca6-911a-4281-a62b-30c41d8771e8",
   "metadata": {},
   "outputs": [],
   "source": [
    "l = list(map(lambda x: x , range(1,101)))\n"
   ]
  },
  {
   "cell_type": "code",
   "execution_count": 121,
   "id": "0dfd21db-9d6d-4b5e-8c99-51874a1b41d5",
   "metadata": {},
   "outputs": [
    {
     "data": {
      "text/plain": [
       "[1,\n",
       " 2,\n",
       " 3,\n",
       " 4,\n",
       " 5,\n",
       " 6,\n",
       " 7,\n",
       " 8,\n",
       " 9,\n",
       " 10,\n",
       " 11,\n",
       " 12,\n",
       " 13,\n",
       " 14,\n",
       " 15,\n",
       " 16,\n",
       " 17,\n",
       " 18,\n",
       " 19,\n",
       " 20,\n",
       " 21,\n",
       " 22,\n",
       " 23,\n",
       " 24,\n",
       " 25,\n",
       " 26,\n",
       " 27,\n",
       " 28,\n",
       " 29,\n",
       " 30,\n",
       " 31,\n",
       " 32,\n",
       " 33,\n",
       " 34,\n",
       " 35,\n",
       " 36,\n",
       " 37,\n",
       " 38,\n",
       " 39,\n",
       " 40,\n",
       " 41,\n",
       " 42,\n",
       " 43,\n",
       " 44,\n",
       " 45,\n",
       " 46,\n",
       " 47,\n",
       " 48,\n",
       " 49,\n",
       " 50,\n",
       " 51,\n",
       " 52,\n",
       " 53,\n",
       " 54,\n",
       " 55,\n",
       " 56,\n",
       " 57,\n",
       " 58,\n",
       " 59,\n",
       " 60,\n",
       " 61,\n",
       " 62,\n",
       " 63,\n",
       " 64,\n",
       " 65,\n",
       " 66,\n",
       " 67,\n",
       " 68,\n",
       " 69,\n",
       " 70,\n",
       " 71,\n",
       " 72,\n",
       " 73,\n",
       " 74,\n",
       " 75,\n",
       " 76,\n",
       " 77,\n",
       " 78,\n",
       " 79,\n",
       " 80,\n",
       " 81,\n",
       " 82,\n",
       " 83,\n",
       " 84,\n",
       " 85,\n",
       " 86,\n",
       " 87,\n",
       " 88,\n",
       " 89,\n",
       " 90,\n",
       " 91,\n",
       " 92,\n",
       " 93,\n",
       " 94,\n",
       " 95,\n",
       " 96,\n",
       " 97,\n",
       " 98,\n",
       " 99,\n",
       " 100]"
      ]
     },
     "execution_count": 121,
     "metadata": {},
     "output_type": "execute_result"
    }
   ],
   "source": [
    "l"
   ]
  },
  {
   "cell_type": "code",
   "execution_count": 122,
   "id": "304de52d-30e5-458d-ab02-22f23b1bb591",
   "metadata": {},
   "outputs": [
    {
     "data": {
      "text/plain": [
       "[1,\n",
       " 3,\n",
       " 5,\n",
       " 7,\n",
       " 9,\n",
       " 11,\n",
       " 13,\n",
       " 15,\n",
       " 17,\n",
       " 19,\n",
       " 21,\n",
       " 23,\n",
       " 25,\n",
       " 27,\n",
       " 29,\n",
       " 31,\n",
       " 33,\n",
       " 35,\n",
       " 37,\n",
       " 39,\n",
       " 41,\n",
       " 43,\n",
       " 45,\n",
       " 47,\n",
       " 49,\n",
       " 51,\n",
       " 53,\n",
       " 55,\n",
       " 57,\n",
       " 59,\n",
       " 61,\n",
       " 63,\n",
       " 65,\n",
       " 67,\n",
       " 69,\n",
       " 71,\n",
       " 73,\n",
       " 75,\n",
       " 77,\n",
       " 79,\n",
       " 81,\n",
       " 83,\n",
       " 85,\n",
       " 87,\n",
       " 89,\n",
       " 91,\n",
       " 93,\n",
       " 95,\n",
       " 97,\n",
       " 99]"
      ]
     },
     "execution_count": 122,
     "metadata": {},
     "output_type": "execute_result"
    }
   ],
   "source": [
    "list(filter(lambda x : x%2 !=0 ,l))"
   ]
  },
  {
   "cell_type": "code",
   "execution_count": null,
   "id": "328b5d2a-e58a-4706-be46-5452aef79d1d",
   "metadata": {},
   "outputs": [],
   "source": []
  }
 ],
 "metadata": {
  "kernelspec": {
   "display_name": "Python 3 (ipykernel)",
   "language": "python",
   "name": "python3"
  },
  "language_info": {
   "codemirror_mode": {
    "name": "ipython",
    "version": 3
   },
   "file_extension": ".py",
   "mimetype": "text/x-python",
   "name": "python",
   "nbconvert_exporter": "python",
   "pygments_lexer": "ipython3",
   "version": "3.10.8"
  }
 },
 "nbformat": 4,
 "nbformat_minor": 5
}
